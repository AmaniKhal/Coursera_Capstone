{
    "cells": [
        {
            "cell_type": "markdown",
            "metadata": {},
            "source": "# Car Accident Severity Prediction\n\n"
        },
        {
            "cell_type": "markdown",
            "metadata": {},
            "source": "## Introduction:\nBased on Global Status Report on Road Safety 2018 presented by World Health Organization (WHO), 1.35 million people are killed on roadways around the world each year and almost 3,700 people are killed globally in road traffic crashes every day. \n\nTo reduce the number of accidents and Car collisions, consequently the number of deaths, we should identify factors helping to accurately predict car accident Severity such as the current weather and the road conditions. Therefore, using this model, the conductor will be alerted to drive more carefully or change his travel to reduce the possibility of getting in an accident.\n"
        },
        {
            "cell_type": "markdown",
            "metadata": {},
            "source": "## Data Understanding:\n### Load Data from CSV file\nThe dataset used for this project is specified in a CSV file \"Data-Collisions.csv\" and it can be found here https://s3.us.cloud-object-storage.appdomain.cloud/cf-courses-data/CognitiveClass/DP0701EN/version-2/Data-Collisions.csv. It includes all types of collisions recorded by Trafic Records from 2004 to 2020.\nIt is represented as follows: \n"
        },
        {
            "cell_type": "code",
            "execution_count": 1,
            "metadata": {},
            "outputs": [],
            "source": "#imports\nimport types\nimport pandas as pd\nimport numpy as np \nfrom botocore.client import Config\nimport ibm_boto3\nimport matplotlib.pyplot as plt\nfrom sklearn.utils import resample\nfrom sklearn.model_selection import train_test_split\nfrom sklearn import metrics\nfrom sklearn.metrics import confusion_matrix\nfrom sklearn.metrics import accuracy_score\nfrom sklearn import preprocessing\nfrom sklearn.neighbors import KNeighborsClassifier\nfrom sklearn.tree import DecisionTreeClassifier\nfrom sklearn.linear_model import LogisticRegression\n%matplotlib inline"
        },
        {
            "cell_type": "code",
            "execution_count": 2,
            "metadata": {},
            "outputs": [],
            "source": "# The code was removed by Watson Studio for sharing."
        },
        {
            "cell_type": "code",
            "execution_count": 3,
            "metadata": {},
            "outputs": [
                {
                    "name": "stdout",
                    "output_type": "stream",
                    "text": "Hello Capstone Project: Car accident Severity!\n"
                },
                {
                    "name": "stderr",
                    "output_type": "stream",
                    "text": "/opt/conda/envs/Python36/lib/python3.6/site-packages/IPython/core/interactiveshell.py:3020: DtypeWarning: Columns (33) have mixed types. Specify dtype option on import or set low_memory=False.\n  interactivity=interactivity, compiler=compiler, result=result)\n"
                },
                {
                    "data": {
                        "text/html": "<div>\n<style scoped>\n    .dataframe tbody tr th:only-of-type {\n        vertical-align: middle;\n    }\n\n    .dataframe tbody tr th {\n        vertical-align: top;\n    }\n\n    .dataframe thead th {\n        text-align: right;\n    }\n</style>\n<table border=\"1\" class=\"dataframe\">\n  <thead>\n    <tr style=\"text-align: right;\">\n      <th></th>\n      <th>SEVERITYCODE</th>\n      <th>X</th>\n      <th>Y</th>\n      <th>OBJECTID</th>\n      <th>INCKEY</th>\n      <th>COLDETKEY</th>\n      <th>REPORTNO</th>\n      <th>STATUS</th>\n      <th>ADDRTYPE</th>\n      <th>INTKEY</th>\n      <th>...</th>\n      <th>ROADCOND</th>\n      <th>LIGHTCOND</th>\n      <th>PEDROWNOTGRNT</th>\n      <th>SDOTCOLNUM</th>\n      <th>SPEEDING</th>\n      <th>ST_COLCODE</th>\n      <th>ST_COLDESC</th>\n      <th>SEGLANEKEY</th>\n      <th>CROSSWALKKEY</th>\n      <th>HITPARKEDCAR</th>\n    </tr>\n  </thead>\n  <tbody>\n    <tr>\n      <th>0</th>\n      <td>2</td>\n      <td>-122.323148</td>\n      <td>47.703140</td>\n      <td>1</td>\n      <td>1307</td>\n      <td>1307</td>\n      <td>3502005</td>\n      <td>Matched</td>\n      <td>Intersection</td>\n      <td>37475.0</td>\n      <td>...</td>\n      <td>Wet</td>\n      <td>Daylight</td>\n      <td>NaN</td>\n      <td>NaN</td>\n      <td>NaN</td>\n      <td>10</td>\n      <td>Entering at angle</td>\n      <td>0</td>\n      <td>0</td>\n      <td>N</td>\n    </tr>\n    <tr>\n      <th>1</th>\n      <td>1</td>\n      <td>-122.347294</td>\n      <td>47.647172</td>\n      <td>2</td>\n      <td>52200</td>\n      <td>52200</td>\n      <td>2607959</td>\n      <td>Matched</td>\n      <td>Block</td>\n      <td>NaN</td>\n      <td>...</td>\n      <td>Wet</td>\n      <td>Dark - Street Lights On</td>\n      <td>NaN</td>\n      <td>6354039.0</td>\n      <td>NaN</td>\n      <td>11</td>\n      <td>From same direction - both going straight - bo...</td>\n      <td>0</td>\n      <td>0</td>\n      <td>N</td>\n    </tr>\n    <tr>\n      <th>2</th>\n      <td>1</td>\n      <td>-122.334540</td>\n      <td>47.607871</td>\n      <td>3</td>\n      <td>26700</td>\n      <td>26700</td>\n      <td>1482393</td>\n      <td>Matched</td>\n      <td>Block</td>\n      <td>NaN</td>\n      <td>...</td>\n      <td>Dry</td>\n      <td>Daylight</td>\n      <td>NaN</td>\n      <td>4323031.0</td>\n      <td>NaN</td>\n      <td>32</td>\n      <td>One parked--one moving</td>\n      <td>0</td>\n      <td>0</td>\n      <td>N</td>\n    </tr>\n    <tr>\n      <th>3</th>\n      <td>1</td>\n      <td>-122.334803</td>\n      <td>47.604803</td>\n      <td>4</td>\n      <td>1144</td>\n      <td>1144</td>\n      <td>3503937</td>\n      <td>Matched</td>\n      <td>Block</td>\n      <td>NaN</td>\n      <td>...</td>\n      <td>Dry</td>\n      <td>Daylight</td>\n      <td>NaN</td>\n      <td>NaN</td>\n      <td>NaN</td>\n      <td>23</td>\n      <td>From same direction - all others</td>\n      <td>0</td>\n      <td>0</td>\n      <td>N</td>\n    </tr>\n    <tr>\n      <th>4</th>\n      <td>2</td>\n      <td>-122.306426</td>\n      <td>47.545739</td>\n      <td>5</td>\n      <td>17700</td>\n      <td>17700</td>\n      <td>1807429</td>\n      <td>Matched</td>\n      <td>Intersection</td>\n      <td>34387.0</td>\n      <td>...</td>\n      <td>Wet</td>\n      <td>Daylight</td>\n      <td>NaN</td>\n      <td>4028032.0</td>\n      <td>NaN</td>\n      <td>10</td>\n      <td>Entering at angle</td>\n      <td>0</td>\n      <td>0</td>\n      <td>N</td>\n    </tr>\n  </tbody>\n</table>\n<p>5 rows \u00d7 38 columns</p>\n</div>",
                        "text/plain": "   SEVERITYCODE           X          Y  OBJECTID  INCKEY  COLDETKEY REPORTNO  \\\n0             2 -122.323148  47.703140         1    1307       1307  3502005   \n1             1 -122.347294  47.647172         2   52200      52200  2607959   \n2             1 -122.334540  47.607871         3   26700      26700  1482393   \n3             1 -122.334803  47.604803         4    1144       1144  3503937   \n4             2 -122.306426  47.545739         5   17700      17700  1807429   \n\n    STATUS      ADDRTYPE   INTKEY  ... ROADCOND                LIGHTCOND  \\\n0  Matched  Intersection  37475.0  ...      Wet                 Daylight   \n1  Matched         Block      NaN  ...      Wet  Dark - Street Lights On   \n2  Matched         Block      NaN  ...      Dry                 Daylight   \n3  Matched         Block      NaN  ...      Dry                 Daylight   \n4  Matched  Intersection  34387.0  ...      Wet                 Daylight   \n\n  PEDROWNOTGRNT  SDOTCOLNUM SPEEDING ST_COLCODE  \\\n0           NaN         NaN      NaN         10   \n1           NaN   6354039.0      NaN         11   \n2           NaN   4323031.0      NaN         32   \n3           NaN         NaN      NaN         23   \n4           NaN   4028032.0      NaN         10   \n\n                                          ST_COLDESC  SEGLANEKEY  \\\n0                                  Entering at angle           0   \n1  From same direction - both going straight - bo...           0   \n2                             One parked--one moving           0   \n3                   From same direction - all others           0   \n4                                  Entering at angle           0   \n\n   CROSSWALKKEY  HITPARKEDCAR  \n0             0             N  \n1             0             N  \n2             0             N  \n3             0             N  \n4             0             N  \n\n[5 rows x 38 columns]"
                    },
                    "execution_count": 3,
                    "metadata": {},
                    "output_type": "execute_result"
                }
            ],
            "source": "print(\"Hello Capstone Project: Car accident Severity!\")\ndf_data_collision = pd.read_csv(body)\ndf_data_collision.head()"
        },
        {
            "cell_type": "markdown",
            "metadata": {},
            "source": "### Data pre-processing and selection\n\n Before starting to run any Machine Learning algorithm on the data to predict target value, the data have to go through the preprocessing part. In this part, data will be cleaned so there is no missing or unusual value. The goal is that the data is the best possible before applying the algorithms.\n Lets first look at columns data types:\n"
        },
        {
            "cell_type": "code",
            "execution_count": 4,
            "metadata": {},
            "outputs": [
                {
                    "data": {
                        "text/plain": "SEVERITYCODE        int64\nX                 float64\nY                 float64\nOBJECTID            int64\nINCKEY              int64\nCOLDETKEY           int64\nREPORTNO           object\nSTATUS             object\nADDRTYPE           object\nINTKEY            float64\nLOCATION           object\nEXCEPTRSNCODE      object\nEXCEPTRSNDESC      object\nSEVERITYCODE.1      int64\nSEVERITYDESC       object\nCOLLISIONTYPE      object\nPERSONCOUNT         int64\nPEDCOUNT            int64\nPEDCYLCOUNT         int64\nVEHCOUNT            int64\nINCDATE            object\nINCDTTM            object\nJUNCTIONTYPE       object\nSDOT_COLCODE        int64\nSDOT_COLDESC       object\nINATTENTIONIND     object\nUNDERINFL          object\nWEATHER            object\nROADCOND           object\nLIGHTCOND          object\nPEDROWNOTGRNT      object\nSDOTCOLNUM        float64\nSPEEDING           object\nST_COLCODE         object\nST_COLDESC         object\nSEGLANEKEY          int64\nCROSSWALKKEY        int64\nHITPARKEDCAR       object\ndtype: object"
                    },
                    "execution_count": 4,
                    "metadata": {},
                    "output_type": "execute_result"
                }
            ],
            "source": "df_data_collision.dtypes\n"
        },
        {
            "cell_type": "markdown",
            "metadata": {},
            "source": "The target variable will be **\"SEVERITYCODE\"**. This attribute corresponds to the severity of a collision which assigns:\n * *Category 1* : Property Damage No injury \n * *Category 2* : injury\n \n Dependant varaibles will be:\n 1. **\"WEATHER\"** : A description of the weather conditions during the time of the collision. \n 2. **\"ROADCOND\"**: The condition of the road during the collision\n 3. **\"LIGHTCOND\"**: Light conditions at the time of the collision\n\n \n It looks like WEATHER,ROADCOND,and LIGHTCOND columns contains categorical data. So, we minimised the dataset to 4 columns (\"SEVERITYCODE\",\"WEATHER\",\"ROADCOND\",\"LIGHTCOND\") and delete missing values.\n    "
        },
        {
            "cell_type": "code",
            "execution_count": 5,
            "metadata": {},
            "outputs": [],
            "source": "df_collision= df_data_collision[['SEVERITYCODE','WEATHER','ROADCOND','LIGHTCOND']]\ndf_collision =df_collision.dropna()"
        },
        {
            "cell_type": "code",
            "execution_count": 6,
            "metadata": {},
            "outputs": [
                {
                    "data": {
                        "text/html": "<div>\n<style scoped>\n    .dataframe tbody tr th:only-of-type {\n        vertical-align: middle;\n    }\n\n    .dataframe tbody tr th {\n        vertical-align: top;\n    }\n\n    .dataframe thead th {\n        text-align: right;\n    }\n</style>\n<table border=\"1\" class=\"dataframe\">\n  <thead>\n    <tr style=\"text-align: right;\">\n      <th></th>\n      <th>SEVERITYCODE</th>\n      <th>WEATHER</th>\n      <th>ROADCOND</th>\n      <th>LIGHTCOND</th>\n    </tr>\n  </thead>\n  <tbody>\n    <tr>\n      <th>0</th>\n      <td>2</td>\n      <td>Overcast</td>\n      <td>Wet</td>\n      <td>Daylight</td>\n    </tr>\n    <tr>\n      <th>1</th>\n      <td>1</td>\n      <td>Raining</td>\n      <td>Wet</td>\n      <td>Dark - Street Lights On</td>\n    </tr>\n    <tr>\n      <th>2</th>\n      <td>1</td>\n      <td>Overcast</td>\n      <td>Dry</td>\n      <td>Daylight</td>\n    </tr>\n    <tr>\n      <th>3</th>\n      <td>1</td>\n      <td>Clear</td>\n      <td>Dry</td>\n      <td>Daylight</td>\n    </tr>\n    <tr>\n      <th>4</th>\n      <td>2</td>\n      <td>Raining</td>\n      <td>Wet</td>\n      <td>Daylight</td>\n    </tr>\n  </tbody>\n</table>\n</div>",
                        "text/plain": "   SEVERITYCODE   WEATHER ROADCOND                LIGHTCOND\n0             2  Overcast      Wet                 Daylight\n1             1   Raining      Wet  Dark - Street Lights On\n2             1  Overcast      Dry                 Daylight\n3             1     Clear      Dry                 Daylight\n4             2   Raining      Wet                 Daylight"
                    },
                    "execution_count": 6,
                    "metadata": {},
                    "output_type": "execute_result"
                }
            ],
            "source": "df_collision.head()"
        },
        {
            "cell_type": "code",
            "execution_count": 7,
            "metadata": {},
            "outputs": [
                {
                    "data": {
                        "text/plain": "<matplotlib.axes._subplots.AxesSubplot at 0x7f8de1029160>"
                    },
                    "execution_count": 7,
                    "metadata": {},
                    "output_type": "execute_result"
                },
                {
                    "data": {
                        "image/png": "[encoded data removed]",
                        "text/plain": "<Figure size 432x288 with 1 Axes>"
                    },
                    "metadata": {
                        "needs_background": "light"
                    },
                    "output_type": "display_data"
                }
            ],
            "source": "#Choose columns for the filtered dataframe\ndf_collision['SEVERITYCODE'].value_counts().plot(kind='bar')"
        },
        {
            "cell_type": "code",
            "execution_count": 8,
            "metadata": {},
            "outputs": [
                {
                    "data": {
                        "text/plain": "<matplotlib.axes._subplots.AxesSubplot at 0x7f8de0cf5cc0>"
                    },
                    "execution_count": 8,
                    "metadata": {},
                    "output_type": "execute_result"
                },
                {
                    "data": {
                        "image/png": "[encoded data removed]",
                        "text/plain": "<Figure size 432x288 with 1 Axes>"
                    },
                    "metadata": {
                        "needs_background": "light"
                    },
                    "output_type": "display_data"
                }
            ],
            "source": "df_collision['WEATHER'].value_counts().plot(kind='bar')"
        },
        {
            "cell_type": "code",
            "execution_count": 9,
            "metadata": {},
            "outputs": [
                {
                    "data": {
                        "text/plain": "<matplotlib.axes._subplots.AxesSubplot at 0x7f8de0c7edd8>"
                    },
                    "execution_count": 9,
                    "metadata": {},
                    "output_type": "execute_result"
                },
                {
                    "data": {
                        "image/png": "[encoded data removed]",
                        "text/plain": "<Figure size 432x288 with 1 Axes>"
                    },
                    "metadata": {
                        "needs_background": "light"
                    },
                    "output_type": "display_data"
                }
            ],
            "source": "df_collision['ROADCOND'].value_counts().plot(kind='bar')"
        },
        {
            "cell_type": "code",
            "execution_count": 10,
            "metadata": {},
            "outputs": [
                {
                    "data": {
                        "text/plain": "<matplotlib.axes._subplots.AxesSubplot at 0x7f8de0bf7978>"
                    },
                    "execution_count": 10,
                    "metadata": {},
                    "output_type": "execute_result"
                },
                {
                    "data": {
                        "image/png": "[encoded data removed]",
                        "text/plain": "<Figure size 432x288 with 1 Axes>"
                    },
                    "metadata": {
                        "needs_background": "light"
                    },
                    "output_type": "display_data"
                }
            ],
            "source": "df_collision['LIGHTCOND'].value_counts().plot(kind='bar')"
        },
        {
            "cell_type": "code",
            "execution_count": 11,
            "metadata": {
                "scrolled": true
            },
            "outputs": [
                {
                    "name": "stdout",
                    "output_type": "stream",
                    "text": "Dry               124300\nWet                47417\nUnknown            15031\nIce                 1206\nSnow/Slush           999\nOther                131\nStanding Water       115\nSand/Mud/Dirt         74\nOil                   64\nName: ROADCOND, dtype: int64\n0    124300\n1     48605\n3     15162\n2      1270\nName: ROADCOND, dtype: int64\n"
                }
            ],
            "source": "#Encoding Road Conditions(0 = Not slippery, 1 = Medium Slippery, 2 = Very Slippery , 3: Unknown)\n\nprint(df_collision[\"ROADCOND\"].value_counts())\nencoding_roadcond = {\"ROADCOND\": {\"Dry\": 0, \"Wet\": 1, \"Ice\": 2, \"Snow/Slush\": 1, \"Standing Water\": 1, \"Sand/Mud/Dirt\": 1,\"Oil\":2, \"Unknown\":3 ,\"Other\":3}}\ndf_collision.replace(encoding_roadcond, inplace=True)\nprint(df_collision[\"ROADCOND\"].value_counts())\n"
        },
        {
            "cell_type": "code",
            "execution_count": 12,
            "metadata": {},
            "outputs": [
                {
                    "name": "stdout",
                    "output_type": "stream",
                    "text": "Daylight                    116077\nDark - Street Lights On      48440\nUnknown                      13456\nDusk                          5889\nDawn                          2502\nDark - No Street Lights       1535\nDark - Street Lights Off      1192\nOther                          235\nDark - Unknown Lighting         11\nName: LIGHTCOND, dtype: int64\n0    116077\n1     56831\n3     13691\n2      2738\nName: LIGHTCOND, dtype: int64\n"
                }
            ],
            "source": "#Encoding Light Conditions(0 = bright, 1 = Medium light, 2 = Dark, 3 = Unknown)\nprint(df_collision[\"LIGHTCOND\"].value_counts())\nencoding_light = {\"LIGHTCOND\": {\"Daylight\": 0, \"Dark - Street Lights On\": 1, \"Dusk\": 1, \"Dawn\": 1, \"Dark - No Street Lights\": 2, \"Dark - Street Lights Off\": 2,\"Dark - Unknown Lighting\":2, \"Unknown\":3 ,\"Other\":3}}\ndf_collision.replace(encoding_light, inplace=True)\nprint(df_collision[\"LIGHTCOND\"].value_counts())\n"
        },
        {
            "cell_type": "code",
            "execution_count": 13,
            "metadata": {},
            "outputs": [
                {
                    "name": "stdout",
                    "output_type": "stream",
                    "text": "Clear                       111008\nRaining                      33117\nOvercast                     27681\nUnknown                      15039\nSnowing                        901\nOther                          824\nFog/Smog/Smoke                 569\nSleet/Hail/Freezing Rain       113\nBlowing Sand/Dirt               55\nSevere Crosswind                25\nPartly Cloudy                    5\nName: WEATHER, dtype: int64\n0    111008\n3     34131\n1     27686\n4     15863\n2       649\nName: WEATHER, dtype: int64\n"
                }
            ],
            "source": "#Encoding WEATHER Conditions(0 = Clear, 1 = overcast/cloudy, 2 = Windy, 3 = Rain/Snow, 4 = Unknown )\n\nprint(df_collision[\"WEATHER\"].value_counts())\nencoding_weather = {\"WEATHER\": {\"Clear\": 0, \"Raining\": 3, \"Overcast\": 1, \"Snowing\": 3, \"Fog/Smog/Smoke\": 2, \"Sleet/Hail/Freezing Rain\": 3,\"Blowing Sand/Dirt\":2 , \"Severe Crosswind\":2, \"Partly Cloudy\":1, \"Unknown\":4 ,\"Other\":4}}\ndf_collision.replace(encoding_weather, inplace=True)\nprint(df_collision[\"WEATHER\"].value_counts())\n"
        },
        {
            "cell_type": "markdown",
            "metadata": {},
            "source": "#### Balancing Dataset\n\nOu dataset is imbalanced. In fact, SEVERITYCODE in class 1 is nearly two times the size of class 2.\n\nWe can fix this by downsampling the majority class."
        },
        {
            "cell_type": "code",
            "execution_count": 14,
            "metadata": {},
            "outputs": [
                {
                    "data": {
                        "text/plain": "1    132285\n2     57052\nName: SEVERITYCODE, dtype: int64"
                    },
                    "execution_count": 14,
                    "metadata": {},
                    "output_type": "execute_result"
                }
            ],
            "source": "df_collision['SEVERITYCODE'].value_counts()"
        },
        {
            "cell_type": "code",
            "execution_count": 15,
            "metadata": {},
            "outputs": [
                {
                    "data": {
                        "text/plain": "2    57052\n1    57052\nName: SEVERITYCODE, dtype: int64"
                    },
                    "execution_count": 15,
                    "metadata": {},
                    "output_type": "execute_result"
                }
            ],
            "source": "# Separate majority and minority classes\ndf_collision_majority = df_collision[df_collision.SEVERITYCODE==1]\ndf_collision_minority = df_collision[df_collision.SEVERITYCODE==2]\n \n# Downsample majority class\ndf_majority_downsampled = resample(df_collision_majority, \n                                 replace=False,    # sample without replacement\n                                 n_samples=57052,     # to match minority class\n                                 random_state=123) # reproducible results\n \n# Combine minority class with downsampled majority class\ndf_collision = pd.concat([df_majority_downsampled, df_collision_minority])\n \n# Display new class counts\ndf_collision.SEVERITYCODE.value_counts()"
        },
        {
            "cell_type": "markdown",
            "metadata": {},
            "source": "Our dataset in Now perfectly balanced"
        },
        {
            "cell_type": "code",
            "execution_count": 16,
            "metadata": {},
            "outputs": [
                {
                    "data": {
                        "text/html": "<div>\n<style scoped>\n    .dataframe tbody tr th:only-of-type {\n        vertical-align: middle;\n    }\n\n    .dataframe tbody tr th {\n        vertical-align: top;\n    }\n\n    .dataframe thead th {\n        text-align: right;\n    }\n</style>\n<table border=\"1\" class=\"dataframe\">\n  <thead>\n    <tr style=\"text-align: right;\">\n      <th></th>\n      <th>SEVERITYCODE</th>\n      <th>WEATHER</th>\n      <th>ROADCOND</th>\n      <th>LIGHTCOND</th>\n    </tr>\n  </thead>\n  <tbody>\n    <tr>\n      <th>82770</th>\n      <td>1</td>\n      <td>0</td>\n      <td>0</td>\n      <td>0</td>\n    </tr>\n    <tr>\n      <th>122946</th>\n      <td>1</td>\n      <td>0</td>\n      <td>0</td>\n      <td>0</td>\n    </tr>\n    <tr>\n      <th>102968</th>\n      <td>1</td>\n      <td>0</td>\n      <td>0</td>\n      <td>0</td>\n    </tr>\n    <tr>\n      <th>13906</th>\n      <td>1</td>\n      <td>1</td>\n      <td>0</td>\n      <td>0</td>\n    </tr>\n    <tr>\n      <th>123301</th>\n      <td>1</td>\n      <td>3</td>\n      <td>1</td>\n      <td>1</td>\n    </tr>\n    <tr>\n      <th>76690</th>\n      <td>1</td>\n      <td>0</td>\n      <td>0</td>\n      <td>1</td>\n    </tr>\n    <tr>\n      <th>192607</th>\n      <td>1</td>\n      <td>0</td>\n      <td>0</td>\n      <td>0</td>\n    </tr>\n    <tr>\n      <th>105520</th>\n      <td>1</td>\n      <td>1</td>\n      <td>1</td>\n      <td>1</td>\n    </tr>\n    <tr>\n      <th>22145</th>\n      <td>1</td>\n      <td>0</td>\n      <td>0</td>\n      <td>0</td>\n    </tr>\n    <tr>\n      <th>145227</th>\n      <td>1</td>\n      <td>0</td>\n      <td>0</td>\n      <td>0</td>\n    </tr>\n  </tbody>\n</table>\n</div>",
                        "text/plain": "        SEVERITYCODE  WEATHER  ROADCOND  LIGHTCOND\n82770              1        0         0          0\n122946             1        0         0          0\n102968             1        0         0          0\n13906              1        1         0          0\n123301             1        3         1          1\n76690              1        0         0          1\n192607             1        0         0          0\n105520             1        1         1          1\n22145              1        0         0          0\n145227             1        0         0          0"
                    },
                    "execution_count": 16,
                    "metadata": {},
                    "output_type": "execute_result"
                }
            ],
            "source": "df_collision.head(10)"
        },
        {
            "cell_type": "markdown",
            "metadata": {},
            "source": "## Data Modeling ##\n"
        },
        {
            "cell_type": "markdown",
            "metadata": {},
            "source": "### Feature Selection ###\n\nLets define Feature set X and labels y:"
        },
        {
            "cell_type": "code",
            "execution_count": 17,
            "metadata": {},
            "outputs": [
                {
                    "data": {
                        "text/plain": "array([[0, 0, 0],\n       [0, 0, 0],\n       [0, 0, 0],\n       [1, 0, 0],\n       [3, 1, 1]])"
                    },
                    "execution_count": 17,
                    "metadata": {},
                    "output_type": "execute_result"
                }
            ],
            "source": "X = df_collision[['WEATHER','ROADCOND','LIGHTCOND']].values\nX[0:5]"
        },
        {
            "cell_type": "code",
            "execution_count": 18,
            "metadata": {},
            "outputs": [
                {
                    "data": {
                        "text/plain": "array([1, 1, 1, 1, 1])"
                    },
                    "execution_count": 18,
                    "metadata": {},
                    "output_type": "execute_result"
                }
            ],
            "source": "y = df_collision['SEVERITYCODE'].values\ny[0:5]"
        },
        {
            "cell_type": "markdown",
            "metadata": {},
            "source": "### Normalize Data ###"
        },
        {
            "cell_type": "code",
            "execution_count": 19,
            "metadata": {},
            "outputs": [
                {
                    "name": "stderr",
                    "output_type": "stream",
                    "text": "/opt/conda/envs/Python36/lib/python3.6/site-packages/sklearn/utils/validation.py:595: DataConversionWarning: Data with input dtype int64 was converted to float64 by StandardScaler.\n  warnings.warn(msg, DataConversionWarning)\n/opt/conda/envs/Python36/lib/python3.6/site-packages/sklearn/utils/validation.py:595: DataConversionWarning: Data with input dtype int64 was converted to float64 by StandardScaler.\n  warnings.warn(msg, DataConversionWarning)\n"
                },
                {
                    "data": {
                        "text/plain": "array([[-0.69929493, -0.57980166, -0.63267068],\n       [-0.69929493, -0.57980166, -0.63267068],\n       [-0.69929493, -0.57980166, -0.63267068],\n       [ 0.02209617, -0.57980166, -0.63267068],\n       [ 1.46487838,  0.68504278,  0.65455616]])"
                    },
                    "execution_count": 19,
                    "metadata": {},
                    "output_type": "execute_result"
                }
            ],
            "source": "X = preprocessing.StandardScaler().fit(X).transform(X)\nX[0:5]"
        },
        {
            "cell_type": "markdown",
            "metadata": {},
            "source": "### Train/Test Split ###\nwe split our dataset into train and test set: We will use 20% of our data for testing and 80% for training"
        },
        {
            "cell_type": "code",
            "execution_count": 30,
            "metadata": {},
            "outputs": [
                {
                    "name": "stdout",
                    "output_type": "stream",
                    "text": "Train set: (91283, 3) (91283,)\nTest set: (22821, 3) (22821,)\n"
                }
            ],
            "source": "from sklearn.model_selection import train_test_split\nX_train, X_test, y_train, y_test = train_test_split( X, y, test_size=0.2, random_state=4)\nprint ('Train set:', X_train.shape,  y_train.shape)\nprint ('Test set:', X_test.shape,  y_test.shape)"
        },
        {
            "cell_type": "markdown",
            "metadata": {},
            "source": "### **K Nearest Neighbours** ###"
        },
        {
            "cell_type": "markdown",
            "metadata": {},
            "source": "We  calculate the accuracy of KNN for different K and Plot  model accuracy  for Different number of Neighbors"
        },
        {
            "cell_type": "code",
            "execution_count": null,
            "metadata": {},
            "outputs": [],
            "source": "K = 20\nmean_acc = np.zeros((K-1))\nstd_acc = np.zeros((K-1))\nConfustionMx = [];\nfor n in range(1,K):\n    \n    #Train Model and Predict  \n    neigh = KNeighborsClassifier(n_neighbors = n).fit(X_train,y_train)\n    yhat=neigh.predict(X_test)\n    mean_acc[n-1] = metrics.accuracy_score(y_test, yhat)\n\n    \n    std_acc[n-1]=np.std(yhat==y_test)/np.sqrt(yhat.shape[0])\n\nmean_acc"
        },
        {
            "cell_type": "code",
            "execution_count": null,
            "metadata": {},
            "outputs": [],
            "source": "plt.plot(range(1,K),mean_acc,'g')\nplt.fill_between(range(1,K),mean_acc - 1 * std_acc,mean_acc + 1 * std_acc, alpha=0.10)\nplt.legend(('Accuracy ', '+/- 3xstd'))\nplt.ylabel('Accuracy ')\nplt.xlabel('Number of Nabors (K)')\nplt.tight_layout()\nplt.show()"
        },
        {
            "cell_type": "code",
            "execution_count": null,
            "metadata": {},
            "outputs": [],
            "source": "print( \"The best accuracy was with\", mean_acc.max(), \"with k=\", mean_acc.argmax()+1) "
        },
        {
            "cell_type": "markdown",
            "metadata": {},
            "source": "### **Decision Tree** ###"
        },
        {
            "cell_type": "code",
            "execution_count": 22,
            "metadata": {},
            "outputs": [
                {
                    "data": {
                        "text/plain": "DecisionTreeClassifier(class_weight=None, criterion='entropy', max_depth=7,\n            max_features=None, max_leaf_nodes=None,\n            min_impurity_decrease=0.0, min_impurity_split=None,\n            min_samples_leaf=1, min_samples_split=2,\n            min_weight_fraction_leaf=0.0, presort=False, random_state=None,\n            splitter='best')"
                    },
                    "execution_count": 22,
                    "metadata": {},
                    "output_type": "execute_result"
                }
            ],
            "source": "CollisionTree = DecisionTreeClassifier(criterion=\"entropy\",max_depth=7)\nCollisionTree\nCollisionTree.fit(X_train,y_train)"
        },
        {
            "cell_type": "code",
            "execution_count": 23,
            "metadata": {},
            "outputs": [
                {
                    "name": "stdout",
                    "output_type": "stream",
                    "text": "[2 2 1 2 2]\n[1 2 2 1 1]\n"
                }
            ],
            "source": "predTree = CollisionTree.predict(X_test)\nprint(predTree[0:5])\nprint(y_test[0:5])"
        },
        {
            "cell_type": "markdown",
            "metadata": {},
            "source": "### **Logistic Regression** ###"
        },
        {
            "cell_type": "markdown",
            "metadata": {},
            "source": "Because our dataset only provides us with two severity code outcomes, our model will only predict one of those two classes. This makes our data binary, which is perfect to use with logistic regression."
        },
        {
            "cell_type": "code",
            "execution_count": 24,
            "metadata": {},
            "outputs": [
                {
                    "data": {
                        "text/plain": "array([2, 2, 1, ..., 1, 2, 2])"
                    },
                    "execution_count": 24,
                    "metadata": {},
                    "output_type": "execute_result"
                }
            ],
            "source": "LR = LogisticRegression(C=6,solver='liblinear').fit(X_train,y_train)\nLR\nLRyhat = LR.predict(X_test)\nLRyhat"
        },
        {
            "cell_type": "code",
            "execution_count": 25,
            "metadata": {},
            "outputs": [
                {
                    "data": {
                        "text/plain": "array([[0.4385178 , 0.5614822 ],\n       [0.4385178 , 0.5614822 ],\n       [0.52509442, 0.47490558],\n       ...,\n       [0.52509442, 0.47490558],\n       [0.4385178 , 0.5614822 ],\n       [0.36479815, 0.63520185]])"
                    },
                    "execution_count": 25,
                    "metadata": {},
                    "output_type": "execute_result"
                }
            ],
            "source": "yhat_prob = LR.predict_proba(X_test)\nyhat_prob"
        },
        {
            "cell_type": "markdown",
            "metadata": {},
            "source": "## Model Evaluation ##"
        },
        {
            "cell_type": "code",
            "execution_count": 26,
            "metadata": {},
            "outputs": [
                {
                    "name": "stdout",
                    "output_type": "stream",
                    "text": "KNN Avg F1-score: 0.4657\nKNN Jaccard score: 0.5110\n"
                }
            ],
            "source": "from sklearn.metrics import jaccard_similarity_score\nfrom sklearn.metrics import f1_score\n\nneigh = KNeighborsClassifier(n_neighbors = 4).fit(X_train,y_train)\nKNNyhat = neigh.predict(X_test)\nJaccard_score_KNN = jaccard_similarity_score(y_test,KNNyhat)\nF1_score = f1_score(y_test, KNNyhat, average='macro',labels=np.unique(KNNyhat)) \nprint(\"KNN Avg F1-score: %.4f\" % F1_score)\nprint(\"KNN Jaccard score: %.4f\" % Jaccard_score_KNN)"
        },
        {
            "cell_type": "code",
            "execution_count": 27,
            "metadata": {},
            "outputs": [
                {
                    "name": "stdout",
                    "output_type": "stream",
                    "text": "DT Avg F1-score: 0.5372\nDT Jaccard score: 0.5573\n"
                }
            ],
            "source": "Jaccard_score_DT = jaccard_similarity_score(y_test,predTree)\nF1_score_DT = f1_score(y_test, predTree, average='macro',labels=np.unique(predTree)) \nprint(\"DT Avg F1-score: %.4f\" % F1_score_DT)\nprint(\"DT Jaccard score: %.4f\" % Jaccard_score_DT)"
        },
        {
            "cell_type": "code",
            "execution_count": 28,
            "metadata": {},
            "outputs": [
                {
                    "name": "stdout",
                    "output_type": "stream",
                    "text": "LR Avg F1-score: 0.5446\nLR Jaccard score: 0.5493\n"
                }
            ],
            "source": "Jaccard_score_LR = jaccard_similarity_score(y_test,LRyhat)\nF1_score_LR = f1_score(y_test, LRyhat, average='macro') \nprint(\"LR Avg F1-score: %.4f\" % F1_score_LR)\nprint(\"LR Jaccard score: %.4f\" % Jaccard_score_LR)"
        },
        {
            "cell_type": "markdown",
            "metadata": {},
            "source": "## Results ##"
        },
        {
            "cell_type": "markdown",
            "metadata": {},
            "source": "Evaluation Results of the differents models used to predict the Car Accident Severity"
        },
        {
            "cell_type": "markdown",
            "metadata": {},
            "source": "|Models             | Jaccard           | F1-Score   |\n| ------------------|:-----------------:| ----------:|\n| KNN               | 0.5110            | 0.4657     |\n| DT                | 0.5573            | 0.5372     |\n| Linear Regression | 0.5793            | 0.5446     |"
        },
        {
            "cell_type": "markdown",
            "metadata": {},
            "source": "Considering the table, the best model to use is the Linear Regression Model (Jaccard and F score closest to 1)."
        },
        {
            "cell_type": "markdown",
            "metadata": {},
            "source": "## Discussion ##"
        },
        {
            "cell_type": "markdown",
            "metadata": {},
            "source": "For our study, we choosed 3 independant variables to predict the severity Code of an accident. \nBy modifying and increasinf the number of independant variables we can get better predictions. Also, by tuning model's parametres ( K nmber for KNN , type of criterion and max_depth for decision tree.), models may be more accurate."
        },
        {
            "cell_type": "markdown",
            "metadata": {},
            "source": "# Conclusion"
        },
        {
            "cell_type": "markdown",
            "metadata": {},
            "source": "Using data provided by Seattle Police Department, we tested different models to predict severity of car collisions based on weather, road and light conditions. "
        },
        {
            "cell_type": "code",
            "execution_count": null,
            "metadata": {},
            "outputs": [],
            "source": ""
        }
    ],
    "metadata": {
        "kernelspec": {
            "display_name": "Python 3.6",
            "language": "python",
            "name": "python3"
        },
        "language_info": {
            "codemirror_mode": {
                "name": "ipython",
                "version": 3
            },
            "file_extension": ".py",
            "mimetype": "text/x-python",
            "name": "python",
            "nbconvert_exporter": "python",
            "pygments_lexer": "ipython3",
            "version": "3.6.9"
        }
    },
    "nbformat": 4,
    "nbformat_minor": 1
}